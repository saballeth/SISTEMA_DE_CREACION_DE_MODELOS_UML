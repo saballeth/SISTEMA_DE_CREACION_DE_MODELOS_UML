{
 "cells": [
  {
   "cell_type": "code",
   "execution_count": null,
   "id": "a32d7e9c",
   "metadata": {},
   "outputs": [],
   "source": [
    "def predict_diagram_from_voice(transcription: str) -> str:\n",
    "    transcription = transcription.lower()\n",
    "    if \"actor\" in transcription and \"use case\" in transcription:\n",
    "        return \"useCaseDiagram\"\n",
    "    elif \"class\" in transcription:\n",
    "        return \"classDiagram\"\n",
    "    return \"unknown\"\n"
   ]
  }
 ],
 "metadata": {
  "language_info": {
   "name": "python"
  }
 },
 "nbformat": 4,
 "nbformat_minor": 5
}
